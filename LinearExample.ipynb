{
 "cells": [
  {
   "cell_type": "code",
   "execution_count": 1,
   "id": "b557ca1c",
   "metadata": {},
   "outputs": [],
   "source": [
    "import numpy as np\n",
    "import pandas as pd\n",
    "import matplotlib.pyplot as plt\n",
    "import scipy.linalg\n",
    "\n",
    "from src.simpleEDMD import *\n",
    "\n",
    "%load_ext autoreload\n",
    "%autoreload 2\n",
    "%matplotlib inline\n",
    "\n",
    "np.set_printoptions(suppress=True,precision=4)"
   ]
  },
  {
   "cell_type": "markdown",
   "id": "29aacfca",
   "metadata": {},
   "source": [
    "# Reconstruct FIG2"
   ]
  },
  {
   "cell_type": "code",
   "execution_count": null,
   "id": "83a317c3",
   "metadata": {},
   "outputs": [],
   "source": [
    "def analytical_koopman_eigenfunction(x,y,i,j):\n",
    "    return np.power((x-y)/np.sqrt(2),i)*np.power(y,j)\n",
    "\n",
    "def analytical_koopman_eigenvalue(i,j):\n",
    "    return np.power(0.9,i)*np.power(0.8,j)\n"
   ]
  },
  {
   "cell_type": "code",
   "execution_count": null,
   "id": "bc3caf80",
   "metadata": {},
   "outputs": [],
   "source": [
    "x1 = np.arange(-5, 5.1, 0.1)\n",
    "x2 = np.arange(-5, 5.1, 0.1)\n",
    "xx1, xx2 = np.meshgrid(x1, x2)"
   ]
  },
  {
   "cell_type": "code",
   "execution_count": null,
   "id": "efbca85e",
   "metadata": {},
   "outputs": [],
   "source": [
    "fig, axs = plt.subplots(2, 4,figsize=(36,15))\n",
    "ij = [[1,0],[2,0],[0,1],[3,0],[1,1],[4,0],[2,1],[0,2]] #normalized to [-1,1]\n",
    "for index, power in enumerate(ij):\n",
    "    \n",
    "    i = power[0]\n",
    "    j = power[1]\n",
    "\n",
    "    z = analytical_koopman_eigenfunction(xx1,xx2,i,j)\n",
    "   \n",
    "    temp = z.flatten()\n",
    "    inf_norm = np.linalg.norm(temp, np.inf)\n",
    "    normalized_z = np.array( [v/inf_norm for v in z])\n",
    "\n",
    "    if index < 4:\n",
    "        ax = axs[0,index]\n",
    "    else:\n",
    "        ax = axs[1,index-4]\n",
    "    \n",
    "    c = ax.pcolor(x1, x2, normalized_z, cmap='jet', vmin=-1, vmax=1)\n",
    "    ax.set_title('$\\mu = (0.9)^{}(0.8)^{}$'.format(i,j))\n",
    "    ax.set_xlim(-5, 5)\n",
    "    ax.set_ylim(-5, 5)\n",
    "    fig.colorbar(c, ax=ax)\n"
   ]
  },
  {
   "cell_type": "markdown",
   "id": "4e231ba4",
   "metadata": {},
   "source": [
    "# Data generation\n",
    "for example4.1.1"
   ]
  },
  {
   "cell_type": "code",
   "execution_count": 2,
   "id": "bba25c61",
   "metadata": {},
   "outputs": [
    {
     "data": {
      "image/png": "[encoded data removed]",
      "text/plain": [
       "<Figure size 432x288 with 1 Axes>"
      ]
     },
     "metadata": {
      "needs_background": "light"
     },
     "output_type": "display_data"
    }
   ],
   "source": [
    "#generate X as 100 normally distributed initial conditions 2x100\n",
    "mean = [0, 0]\n",
    "cov = [[3, 0], [0, 3]]\n",
    "x1, x2 = np.random.multivariate_normal(mean, cov, 100).T\n",
    "plt.plot(x1, x2, 'x')\n",
    "plt.axis('equal')\n",
    "plt.show()\n",
    "\n",
    "X = []\n",
    "for i in range(0,100):\n",
    "    X.append([x1[i],x2[i]])\n",
    "X = np.array(X)"
   ]
  },
  {
   "cell_type": "code",
   "execution_count": 3,
   "id": "e5f59599",
   "metadata": {},
   "outputs": [],
   "source": [
    "#generate true Y by multiplying J\n",
    "J = np.array([[0.9, -0.1],[0, 0.8]])\n",
    "Y = []\n",
    "for i in range(0,100):\n",
    "    xi = X[i]\n",
    "    yi = J@xi\n",
    "    Y.append(yi)\n",
    "\n",
    "Y = np.array(Y)"
   ]
  },
  {
   "cell_type": "markdown",
   "id": "1b1f6919",
   "metadata": {},
   "source": [
    "# EDMD for linear example"
   ]
  },
  {
   "cell_type": "code",
   "execution_count": 4,
   "id": "26542d06",
   "metadata": {},
   "outputs": [],
   "source": [
    "linearEDMD = simpleEDMD(X,Y)"
   ]
  },
  {
   "cell_type": "code",
   "execution_count": 5,
   "id": "ef476a8a",
   "metadata": {},
   "outputs": [],
   "source": [
    "linearEDMD.compute_koopman_operator()"
   ]
  },
  {
   "cell_type": "code",
   "execution_count": 6,
   "id": "5d64722d",
   "metadata": {},
   "outputs": [
    {
     "data": {
      "text/plain": [
       "array([[   1.423 ,    0.1527,    0.3136,    1.8876,   -0.3213,    0.1269,\n",
       "           0.4676,    0.4051,    2.7042,    3.2026,    0.5294,    1.1032,\n",
       "           2.2065,    6.373 ,   20.0693,    1.2425,    1.6292,    4.1343,\n",
       "          17.9681,   31.5088,   -3.6599,    6.2634,   13.5686,   39.4824,\n",
       "         126.5851],\n",
       "       [   0.0306,    0.9945,   -0.3296,   -1.5331,   -3.331 ,   -0.2743,\n",
       "          -0.7293,   -0.0132,   -2.7051,   -0.8361,   -0.4102,   -2.8481,\n",
       "          -3.3846,  -18.0188,  -27.6191,   -3.4236,   -6.993 ,   -4.0348,\n",
       "         -29.9633,  -27.3309,   -7.8659,  -23.0246,  -16.1807,  -89.3096,\n",
       "        -136.4254],\n",
       "       [  -0.1728,   -0.4247,    0.582 ,   -3.6105,   -5.0949,   -0.1143,\n",
       "          -1.807 ,    0.1619,  -11.5115,    0.9625,   -0.3774,   -4.5271,\n",
       "          -5.2725,  -24.18  ,  -66.907 ,   -1.6425,  -13.2534,   -1.4814,\n",
       "         -89.4278,  -16.8726,   -2.0109,  -30.2826,  -32.3026, -143.9111,\n",
       "        -405.5655],\n",
       "       [  -0.04  ,   -0.0423,   -0.2536,    1.4165,   -2.7316,   -0.014 ,\n",
       "          -0.3254,   -0.6007,   -3.9131,   -2.6154,   -0.3146,    0.2282,\n",
       "          -2.0344,    2.1844,  -20.2262,    0.3111,   -1.9744,   -2.8382,\n",
       "         -23.9115,  -13.7064,   -1.5139,    0.9806,  -16.45  ,   -3.9712,\n",
       "        -153.7613],\n",
       "       [   0.0096,    0.1079,    0.0899,    0.7031,    2.7582,   -0.0433,\n",
       "           0.4199,   -0.5831,    2.7804,   -4.3048,   -0.0169,    1.0628,\n",
       "           0.9065,    4.601 ,   15.7296,   -0.2586,    3.3157,   -3.5571,\n",
       "          22.2937,  -26.5431,   -0.3696,    6.3322,    3.8305,   22.4978,\n",
       "          84.4786],\n",
       "       [  -0.0607,   -0.2851,   -0.3296,   -1.7497,   -1.4803,    1.3161,\n",
       "          -0.5547,   -0.9155,   -2.2201,  -10.4392,   -1.2151,   -3.3136,\n",
       "          -2.4513,  -13.5069,  -12.7425,   -1.7505,   -4.7594,   -8.6188,\n",
       "         -16.1371,  -75.7942,  -16.3762,  -25.7455,  -12.8939,  -72.3658,\n",
       "         -74.6597],\n",
       "       [  -0.1746,    0.3282,    0.2044,    4.1301,   -2.413 ,    0.6216,\n",
       "           2.018 ,    3.0579,   -1.5282,   25.1382,   -0.3776,    3.1477,\n",
       "           1.327 ,   24.5334,  -10.1013,    8.2693,    6.9387,   22.1854,\n",
       "         -12.5482,  180.2468,   11.987 ,   26.7905,    8.4265,  133.9607,\n",
       "         -63.4282],\n",
       "       [   0.104 ,    0.9907,    1.8369,    7.5992,   18.1916,    0.5283,\n",
       "           3.0336,    4.6438,   19.3928,   28.9275,    0.9559,    9.5818,\n",
       "          11.6713,   63.0921,  110.7281,    4.6435,   23.358 ,   25.6974,\n",
       "         152.584 ,  203.3304,    8.252 ,   62.0333,   72.6981,  362.5365,\n",
       "         702.8381],\n",
       "       [   0.0227,    0.4768,    0.7305,    1.1777,   14.1149,   -0.3447,\n",
       "           2.3865,   -2.2719,   20.1752,  -15.1104,   -0.1342,    4.5737,\n",
       "           3.858 ,   19.2357,   82.0294,   -3.744 ,   18.0039,  -16.8792,\n",
       "         140.8082, -100.974 ,   -5.116 ,   27.9661,   21.6486,  130.9594,\n",
       "         487.2967],\n",
       "       [  -0.0184,   -0.5259,   -0.7738,   -2.9535,  -10.4065,    0.0536,\n",
       "          -1.7193,    0.5999,  -11.8347,    2.9489,    0.0468,   -4.6866,\n",
       "          -3.8285,  -26.0619,  -57.6861,    0.6431,  -13.314 ,    4.1555,\n",
       "         -91.8909,    8.6384,    1.5265,  -28.499 ,  -20.2424, -150.5487,\n",
       "        -336.6038],\n",
       "       [  -0.1955,   -0.0454,   -0.2384,   -0.5598,   -1.3237,   -0.0877,\n",
       "          -0.3618,    0.0201,   -2.3793,    0.7495,    1.0195,   -0.4298,\n",
       "          -2.0151,   -0.3622,  -20.9636,   -1.7829,   -1.2235,   -0.5854,\n",
       "         -15.948 ,    1.9633,    4.638 ,   -3.9698,  -12.4766,   -1.4174,\n",
       "        -130.3386],\n",
       "       [   0.2032,    0.2511,    1.2318,    1.71  ,    8.4976,    0.1534,\n",
       "           1.1655,    1.6448,    8.4152,    7.6971,    2.1932,    4.9276,\n",
       "          10.4127,   15.5132,   72.1153,    5.7393,   10.4174,   14.6497,\n",
       "          63.9228,   67.677 ,   21.6373,   33.2075,   61.2453,   84.9467,\n",
       "         438.3047],\n",
       "       [   0.3113,    0.368 ,    1.796 ,    2.3268,   14.0101,    0.3764,\n",
       "           1.5344,    2.3212,   13.5894,    9.4794,    2.4446,    3.5915,\n",
       "          16.8037,   17.0953,  120.9314,    5.1909,   12.4191,   20.2729,\n",
       "          97.8096,   97.9369,   18.8976,   26.3756,   95.7034,  112.4398,\n",
       "         723.8302],\n",
       "       [  -0.0297,    0.4627,    0.3748,    2.6669,    6.821 ,   -0.0679,\n",
       "           1.3067,   -0.3929,    8.8259,    2.9971,   -0.494 ,    3.8547,\n",
       "           1.0307,   26.1735,   32.9805,   -1.3726,    9.9171,   -2.3602,\n",
       "          69.8042,   34.1133,   -5.7332,   23.075 ,    5.5932,  159.7157,\n",
       "         199.6436],\n",
       "       [  -0.0198,   -0.1765,   -0.2799,   -0.9611,   -3.5273,    0.0173,\n",
       "          -0.6021,    0.2144,   -4.2258,    1.0906,   -0.0911,   -1.6121,\n",
       "          -1.7004,   -8.2163,  -20.2741,   -0.0552,   -4.61  ,    1.1276,\n",
       "         -31.263 ,    2.5439,   -0.3316,  -10.2741,   -8.379 ,  -48.6791,\n",
       "        -112.8493],\n",
       "       [   0.0372,    0.0833,    0.1785,    0.304 ,    0.3794,   -0.0859,\n",
       "           0.1795,    0.53  ,    0.5185,    3.5351,    0.6609,    1.0116,\n",
       "           1.7653,    1.4962,    7.5874,    2.8569,    1.5456,    4.5358,\n",
       "           2.5297,   24.7975,    8.7936,    9.6031,   10.3661,    5.0582,\n",
       "          47.2801],\n",
       "       [   0.0385,   -0.0466,    0.0253,   -0.552 ,    1.0615,   -0.0861,\n",
       "          -0.344 ,   -0.4446,    0.4875,   -3.8198,    0.0442,   -0.5503,\n",
       "           0.0079,   -1.9513,    3.1784,   -2.534 ,   -1.0207,   -3.2719,\n",
       "           5.4966,  -24.7022,   -5.0721,   -6.5483,   -0.4008,   -7.5178,\n",
       "          17.7229],\n",
       "       [   0.0243,   -0.1938,   -0.108 ,   -1.5357,   -1.8076,   -0.1048,\n",
       "          -0.4476,   -0.5907,   -2.3532,   -5.2842,    0.2261,   -1.8362,\n",
       "          -0.212 ,  -12.6442,   -7.2278,   -0.5879,   -3.3194,   -2.5393,\n",
       "         -20.6949,  -34.544 ,    2.1504,  -11.6121,   -2.1776,  -70.4567,\n",
       "         -52.4361],\n",
       "       [  -0.0039,    0.013 ,   -0.0201,    0.3906,   -1.0961,    0.0494,\n",
       "          -0.1819,    0.3245,   -1.9958,    3.038 ,   -0.0002,    0.0213,\n",
       "          -0.1469,    1.3586,   -6.2018,    0.8293,   -1.2653,    2.8067,\n",
       "         -11.8663,   23.4229,    0.9911,    0.3909,   -0.9459,    3.8528,\n",
       "         -36.0457],\n",
       "       [   0.0015,    0.0958,    0.1244,    0.5851,    1.6731,   -0.0009,\n",
       "           0.2652,   -0.0712,    1.8078,   -0.0077,   -0.0338,    0.8353,\n",
       "           0.572 ,    5.0252,    8.9811,   -0.1246,    2.1079,   -0.4363,\n",
       "          14.7606,    2.429 ,   -0.6342,    4.9367,    3.0186,   28.7565,\n",
       "          53.0315],\n",
       "       [   0.0064,    0.015 ,    0.028 ,    0.145 ,   -0.0179,    0.022 ,\n",
       "           0.0733,    0.0893,    0.0657,    0.6719,   -0.0261,    0.1604,\n",
       "           0.2782,    0.37  ,    1.64  ,    0.6856,    0.3201,    0.792 ,\n",
       "           0.2007,    4.9234,    1.2512,    1.7326,    1.7062,    1.0892,\n",
       "          10.2646],\n",
       "       [  -0.0289,   -0.0983,   -0.2074,   -0.5265,   -1.4933,   -0.005 ,\n",
       "          -0.2561,   -0.278 ,   -1.5829,   -2.0595,   -0.3472,   -1.0588,\n",
       "          -1.6274,   -4.1864,  -11.9562,   -1.2511,   -2.1765,   -2.5925,\n",
       "         -12.2007,  -17.3707,   -3.9747,   -7.5232,   -9.4719,  -23.2205,\n",
       "         -72.857 ],\n",
       "       [  -0.0715,   -0.0316,   -0.3918,   -0.1158,   -2.5867,   -0.065 ,\n",
       "          -0.1948,   -0.4822,   -2.0879,   -1.5003,   -0.6478,   -0.3305,\n",
       "          -3.4699,   -0.836 ,  -22.9108,   -1.0119,   -1.7744,   -4.3296,\n",
       "         -14.2914,  -16.7302,   -5.2715,   -2.769 ,  -19.7588,   -7.816 ,\n",
       "        -136.097 ],\n",
       "       [   0.0029,   -0.097 ,   -0.0939,   -0.6223,   -1.4391,    0.0059,\n",
       "          -0.2369,    0.0702,   -1.6125,   -0.624 ,    0.0876,   -0.8086,\n",
       "          -0.326 ,   -5.5654,   -7.1199,    0.2799,   -1.8954,    0.2808,\n",
       "         -13.5637,   -7.7751,    1.223 ,   -4.6302,   -1.6536,  -32.9374,\n",
       "         -42.4054],\n",
       "       [   0.0051,    0.0153,    0.0416,    0.0606,    0.449 ,   -0.0011,\n",
       "           0.0693,   -0.0125,    0.5407,   -0.1817,    0.039 ,    0.1482,\n",
       "           0.2886,    0.6369,    2.8041,    0.0054,    0.5312,   -0.0536,\n",
       "           3.7207,   -0.7255,    0.2356,    0.9647,    1.5014,    4.1631,\n",
       "          15.6201]])"
      ]
     },
     "execution_count": 6,
     "metadata": {},
     "output_type": "execute_result"
    }
   ],
   "source": [
    "K = linearEDMD.koopman_matrix\n",
    "K"
   ]
  },
  {
   "cell_type": "code",
   "execution_count": 7,
   "id": "a94936da",
   "metadata": {},
   "outputs": [
    {
     "data": {
      "text/plain": [
       "array([1.    +0.j    , 0.9   +0.j    , 0.81  +0.j    , 0.8   +0.j    ,\n",
       "       0.729 +0.j    , 0.72  +0.j    , 0.6561+0.j    , 0.648 +0.j    ,\n",
       "       0.64  +0.j    , 0.5832+0.j    , 0.576 +0.j    , 0.5184+0.j    ,\n",
       "       0.5162+0.0864j, 0.5162-0.0864j, 0.512 +0.j    , 0.4899+0.j    ,\n",
       "       0.4608+0.j    , 0.4096+0.j    , 0.3754+0.j    , 0.2943+0.109j ,\n",
       "       0.2943-0.109j , 0.2932+0.0804j, 0.2932-0.0804j, 0.2281+0.j    ,\n",
       "       0.1742+0.j    ])"
      ]
     },
     "execution_count": 7,
     "metadata": {},
     "output_type": "execute_result"
    }
   ],
   "source": [
    "Mu = linearEDMD.koopman_eigenvalues\n",
    "Mu # correctly responding to eigenvalues in Fig.3"
   ]
  },
  {
   "cell_type": "code",
   "execution_count": 8,
   "id": "848b1e7b",
   "metadata": {},
   "outputs": [
    {
     "data": {
      "text/plain": [
       "(25, 25)"
      ]
     },
     "execution_count": 8,
     "metadata": {},
     "output_type": "execute_result"
    }
   ],
   "source": [
    "Xi = linearEDMD.right_eigenvectors\n",
    "Xi.shape"
   ]
  },
  {
   "cell_type": "code",
   "execution_count": 9,
   "id": "5885feaa",
   "metadata": {},
   "outputs": [
    {
     "data": {
      "text/plain": [
       "array([[ 0.0034-0.j    ,  0.0007-0.j    ,  0.0072-0.j    ,\n",
       "        -0.0001-0.j    ,  0.0004-0.j    , -0.0062-0.j    ,\n",
       "         0.0035-0.j    ,  0.0008-0.j    ,  0.0011-0.j    ,\n",
       "        -0.0042-0.j    , -0.0002-0.j    , -0.0042-0.j    ,\n",
       "         0.0001-0.0004j,  0.0001+0.0004j,  0.    -0.j    ,\n",
       "        -0.0018-0.j    , -0.0036-0.j    ,  0.0008-0.j    ,\n",
       "        -0.0002-0.j    ,  0.0001+0.0001j,  0.0001-0.0001j,\n",
       "         0.0002+0.0001j,  0.0002-0.0001j,  0.    -0.j    ,\n",
       "         0.0001-0.j    ],\n",
       "       [-0.0004-0.j    , -0.0096-0.j    , -0.0001-0.j    ,\n",
       "        -0.0006-0.j    ,  0.0093-0.j    , -0.0013-0.j    ,\n",
       "         0.0003-0.j    ,  0.0074-0.j    ,  0.0002-0.j    ,\n",
       "        -0.0006-0.j    , -0.0026-0.j    , -0.0004-0.j    ,\n",
       "        -0.0004-0.0002j, -0.0004+0.0002j,  0.0009-0.j    ,\n",
       "        -0.0007-0.j    , -0.0007-0.j    ,  0.0002-0.j    ,\n",
       "         0.0004-0.j    ,  0.0003+0.j    ,  0.0003-0.j    ,\n",
       "         0.0001+0.0002j,  0.0001-0.0002j, -0.0006-0.j    ,\n",
       "        -0.    -0.j    ],\n",
       "       [ 0.0057-0.j    ,  0.0025-0.j    ,  0.0167-0.j    ,\n",
       "         0.0001-0.j    , -0.0003-0.j    , -0.005 -0.j    ,\n",
       "         0.0129-0.j    ,  0.0016-0.j    ,  0.0026-0.j    ,\n",
       "        -0.0102-0.j    ,  0.0008-0.j    , -0.0072-0.j    ,\n",
       "         0.0019-0.001j ,  0.0019+0.001j ,  0.0002-0.j    ,\n",
       "        -0.0012-0.j    , -0.0021-0.j    ,  0.0022-0.j    ,\n",
       "        -0.0012-0.j    ,  0.0018+0.0002j,  0.0018-0.0002j,\n",
       "         0.0017+0.0003j,  0.0017-0.0003j,  0.0008-0.j    ,\n",
       "         0.0015-0.j    ],\n",
       "       [-0.0014-0.j    , -0.0333-0.j    , -0.0037-0.j    ,\n",
       "        -0.0099-0.j    ,  0.0406-0.j    , -0.0063-0.j    ,\n",
       "        -0.0004-0.j    ,  0.0237-0.j    , -0.0004-0.j    ,\n",
       "        -0.0024-0.j    , -0.0121-0.j    ,  0.0005-0.j    ,\n",
       "        -0.002 -0.003j , -0.002 +0.003j ,  0.0099-0.j    ,\n",
       "        -0.0064-0.j    , -0.0035-0.j    , -0.0005-0.j    ,\n",
       "         0.0057-0.j    ,  0.001 -0.0007j,  0.001 +0.0007j,\n",
       "        -0.0002+0.0009j, -0.0002-0.0009j, -0.007 -0.j    ,\n",
       "        -0.0016-0.j    ],\n",
       "       [ 0.0289-0.j    ,  0.0217-0.j    ,  0.0793-0.j    ,\n",
       "         0.008 -0.j    , -0.0094-0.j    , -0.0014-0.j    ,\n",
       "         0.0638-0.j    ,  0.0152-0.j    ,  0.0193-0.j    ,\n",
       "        -0.0405-0.j    ,  0.0087-0.j    , -0.0302-0.j    ,\n",
       "         0.0138-0.0008j,  0.0138+0.0008j, -0.0071-0.j    ,\n",
       "         0.0092-0.j    ,  0.0073-0.j    ,  0.018 -0.j    ,\n",
       "        -0.0155-0.j    ,  0.0169+0.0007j,  0.0169-0.0007j,\n",
       "         0.017 +0.0007j,  0.017 -0.0007j,  0.0132-0.j    ,\n",
       "         0.0163-0.j    ],\n",
       "       [ 0.0001-0.j    ,  0.0134-0.j    , -0.0014-0.j    ,\n",
       "        -0.0065-0.j    , -0.0128-0.j    ,  0.0008-0.j    ,\n",
       "        -0.0007-0.j    , -0.0191-0.j    ,  0.0001-0.j    ,\n",
       "         0.0008-0.j    ,  0.0089-0.j    ,  0.0008-0.j    ,\n",
       "         0.001 -0.0002j,  0.001 +0.0002j,  0.005 -0.j    ,\n",
       "        -0.0013-0.j    ,  0.0001-0.j    ,  0.0002-0.j    ,\n",
       "         0.0005-0.j    ,  0.0003+0.0002j,  0.0003-0.0002j,\n",
       "         0.0001+0.0002j,  0.0001-0.0002j, -0.0005-0.j    ,\n",
       "         0.    -0.j    ],\n",
       "       [ 0.001 -0.j    ,  0.0027-0.j    , -0.0128-0.j    ,\n",
       "        -0.0011-0.j    , -0.0018-0.j    ,  0.0111-0.j    ,\n",
       "        -0.0119-0.j    , -0.0018-0.j    ,  0.0014-0.j    ,\n",
       "         0.0121-0.j    ,  0.0018-0.j    ,  0.0073-0.j    ,\n",
       "         0.0007+0.0021j,  0.0007-0.0021j,  0.0011-0.j    ,\n",
       "         0.0038-0.j    ,  0.0042-0.j    ,  0.0018-0.j    ,\n",
       "        -0.0009-0.j    ,  0.0016+0.0002j,  0.0016-0.0002j,\n",
       "         0.0015+0.0003j,  0.0015-0.0003j,  0.0005-0.j    ,\n",
       "         0.0012-0.j    ],\n",
       "       [-0.0002-0.j    ,  0.0107-0.j    , -0.0028-0.j    ,\n",
       "        -0.0152-0.j    , -0.0311-0.j    , -0.0034-0.j    ,\n",
       "        -0.001 -0.j    , -0.0332-0.j    ,  0.0003-0.j    ,\n",
       "        -0.0011-0.j    ,  0.0052-0.j    , -0.0014-0.j    ,\n",
       "         0.006 -0.0037j,  0.006 +0.0037j,  0.0132-0.j    ,\n",
       "        -0.0077-0.j    , -0.0058-0.j    ,  0.0008-0.j    ,\n",
       "         0.0055-0.j    ,  0.0011-0.0005j,  0.0011+0.0005j,\n",
       "         0.0003+0.0007j,  0.0003-0.0007j, -0.006 -0.j    ,\n",
       "        -0.001 -0.j    ],\n",
       "       [ 0.0152-0.j    ,  0.0135-0.j    , -0.041 -0.j    ,\n",
       "         0.0023-0.j    , -0.0075-0.j    ,  0.0526-0.j    ,\n",
       "        -0.0519-0.j    ,  0.0022-0.j    ,  0.0149-0.j    ,\n",
       "         0.0508-0.j    ,  0.0085-0.j    ,  0.0287-0.j    ,\n",
       "         0.0118+0.0104j,  0.0118-0.0104j, -0.0028-0.j    ,\n",
       "         0.0293-0.j    ,  0.0364-0.j    ,  0.0145-0.j    ,\n",
       "        -0.012 -0.j    ,  0.0163+0.j    ,  0.0163-0.j    ,\n",
       "         0.0159+0.0002j,  0.0159-0.0002j,  0.01  -0.j    ,\n",
       "         0.0148-0.j    ],\n",
       "       [-0.0123-0.j    ,  0.003 -0.j    , -0.0264-0.j    ,\n",
       "        -0.1136-0.j    , -0.1236-0.j    , -0.0376-0.j    ,\n",
       "        -0.0185-0.j    , -0.1387-0.j    , -0.0106-0.j    ,\n",
       "         0.0081-0.j    , -0.0179-0.j    ,  0.0115-0.j    ,\n",
       "         0.0241-0.0288j,  0.0241+0.0288j,  0.1087-0.j    ,\n",
       "        -0.0688-0.j    , -0.0459-0.j    , -0.0082-0.j    ,\n",
       "         0.0623-0.j    , -0.0005-0.0076j, -0.0005+0.0076j,\n",
       "        -0.0086+0.005j , -0.0086-0.005j , -0.0695-0.j    ,\n",
       "        -0.0208-0.j    ],\n",
       "       [ 0.0082-0.j    , -0.0021-0.j    ,  0.0295-0.j    ,\n",
       "        -0.0003-0.j    ,  0.0024-0.j    , -0.0354-0.j    ,\n",
       "         0.0186-0.j    ,  0.0031-0.j    ,  0.007 -0.j    ,\n",
       "        -0.0276-0.j    , -0.0002-0.j    , -0.0314-0.j    ,\n",
       "         0.0009-0.0029j,  0.0009+0.0029j,  0.0009-0.j    ,\n",
       "        -0.0145-0.j    , -0.0316-0.j    ,  0.0076-0.j    ,\n",
       "        -0.0013-0.j    ,  0.0012+0.0012j,  0.0012-0.0012j,\n",
       "         0.0012+0.0013j,  0.0012-0.0013j,  0.0002-0.j    ,\n",
       "         0.001 -0.j    ],\n",
       "       [ 0.0019-0.j    , -0.019 -0.j    ,  0.0032-0.j    ,\n",
       "        -0.0077-0.j    ,  0.0322-0.j    , -0.0072-0.j    ,\n",
       "        -0.0011-0.j    ,  0.0297-0.j    ,  0.0015-0.j    ,\n",
       "         0.0016-0.j    , -0.0091-0.j    ,  0.001 -0.j    ,\n",
       "        -0.0022-0.0002j, -0.0022+0.0002j,  0.0105-0.j    ,\n",
       "        -0.0051-0.j    , -0.0044-0.j    ,  0.0017-0.j    ,\n",
       "         0.0034-0.j    ,  0.0022+0.0004j,  0.0022-0.0004j,\n",
       "         0.0007+0.0014j,  0.0007-0.0014j, -0.0051-0.j    ,\n",
       "        -0.0003-0.j    ],\n",
       "       [ 0.0204-0.j    ,  0.0061-0.j    ,  0.0492-0.j    ,\n",
       "        -0.0021-0.j    , -0.0031-0.j    , -0.0201-0.j    ,\n",
       "         0.0533-0.j    , -0.007 -0.j    ,  0.0185-0.j    ,\n",
       "        -0.0548-0.j    ,  0.0137-0.j    , -0.0426-0.j    ,\n",
       "         0.0181-0.0074j,  0.0181+0.0074j,  0.0046-0.j    ,\n",
       "        -0.0052-0.j    , -0.0103-0.j    ,  0.0173-0.j    ,\n",
       "        -0.0093-0.j    ,  0.0149+0.0011j,  0.0149-0.0011j,\n",
       "         0.0143+0.0018j,  0.0143-0.0018j,  0.0067-0.j    ,\n",
       "         0.0126-0.j    ],\n",
       "       [-0.0028-0.j    , -0.0961-0.j    , -0.002 -0.j    ,\n",
       "        -0.0823-0.j    ,  0.1348-0.j    , -0.0339-0.j    ,\n",
       "        -0.0055-0.j    ,  0.12  -0.j    , -0.004 -0.j    ,\n",
       "         0.0195-0.j    , -0.083 -0.j    ,  0.0343-0.j    ,\n",
       "        -0.008 -0.0149j, -0.008 +0.0149j,  0.0827-0.j    ,\n",
       "        -0.0404-0.j    , -0.0139-0.j    , -0.0039-0.j    ,\n",
       "         0.0482-0.j    ,  0.0085-0.0064j,  0.0085+0.0064j,\n",
       "        -0.0009+0.007j , -0.0009-0.007j , -0.0599-0.j    ,\n",
       "        -0.0133-0.j    ],\n",
       "       [ 0.1593-0.j    ,  0.0698-0.j    ,  0.2006-0.j    ,\n",
       "         0.0583-0.j    ,  0.0295-0.j    ,  0.0782-0.j    ,\n",
       "         0.2071-0.j    ,  0.0451-0.j    ,  0.1539-0.j    ,\n",
       "        -0.1974-0.j    ,  0.108 -0.j    , -0.1785-0.j    ,\n",
       "         0.13  -0.0065j,  0.13  +0.0065j, -0.0459-0.j    ,\n",
       "         0.0998-0.j    ,  0.0935-0.j    ,  0.1504-0.j    ,\n",
       "        -0.1272-0.j    ,  0.1446+0.0035j,  0.1446-0.0035j,\n",
       "         0.1453+0.0028j,  0.1453-0.0028j,  0.1115-0.j    ,\n",
       "         0.1423-0.j    ],\n",
       "       [ 0.0004-0.j    ,  0.0625-0.j    , -0.0039-0.j    ,\n",
       "        -0.0344-0.j    , -0.0713-0.j    ,  0.    -0.j    ,\n",
       "         0.0032-0.j    , -0.125 -0.j    ,  0.0013-0.j    ,\n",
       "        -0.0043-0.j    ,  0.0685-0.j    , -0.0046-0.j    ,\n",
       "         0.0057-0.0021j,  0.0057+0.0021j,  0.0409-0.j    ,\n",
       "        -0.0153-0.j    , -0.0088-0.j    ,  0.0031-0.j    ,\n",
       "         0.0028-0.j    ,  0.0023+0.0034j,  0.0023-0.0034j,\n",
       "         0.0001+0.0025j,  0.0001-0.0025j, -0.0043-0.j    ,\n",
       "         0.0002-0.j    ],\n",
       "       [ 0.0109-0.j    ,  0.0126-0.j    , -0.0385-0.j    ,\n",
       "        -0.0078-0.j    ,  0.0067-0.j    ,  0.0281-0.j    ,\n",
       "        -0.0496-0.j    ,  0.0064-0.j    ,  0.0144-0.j    ,\n",
       "         0.0456-0.j    ,  0.0091-0.j    ,  0.0136-0.j    ,\n",
       "         0.0019+0.0109j,  0.0019-0.0109j,  0.009 -0.j    ,\n",
       "         0.0082-0.j    , -0.0069-0.j    ,  0.0198-0.j    ,\n",
       "        -0.0075-0.j    ,  0.0124+0.0027j,  0.0124-0.0027j,\n",
       "         0.0114+0.0034j,  0.0114-0.0034j,  0.0034-0.j    ,\n",
       "         0.0096-0.j    ],\n",
       "       [ 0.0033-0.j    ,  0.0324-0.j    ,  0.015 -0.j    ,\n",
       "        -0.0936-0.j    , -0.1361-0.j    , -0.0559-0.j    ,\n",
       "         0.0369-0.j    , -0.1625-0.j    ,  0.0066-0.j    ,\n",
       "        -0.0516-0.j    ,  0.02  -0.j    , -0.0356-0.j    ,\n",
       "         0.0387-0.0317j,  0.0387+0.0317j,  0.0915-0.j    ,\n",
       "        -0.0637-0.j    , -0.0541-0.j    ,  0.0081-0.j    ,\n",
       "         0.0392-0.j    ,  0.01  -0.0034j,  0.01  +0.0034j,\n",
       "         0.0035+0.0061j,  0.0035-0.0061j, -0.0458-0.j    ,\n",
       "        -0.0069-0.j    ],\n",
       "       [ 0.1106-0.j    ,  0.059 -0.j    , -0.1668-0.j    ,\n",
       "         0.0213-0.j    ,  0.067 -0.j    ,  0.3072-0.j    ,\n",
       "        -0.2399-0.j    ,  0.1553-0.j    ,  0.1095-0.j    ,\n",
       "         0.2693-0.j    ,  0.0255-0.j    ,  0.1682-0.j    ,\n",
       "         0.0795+0.0624j,  0.0795-0.0624j, -0.0205-0.j    ,\n",
       "         0.2015-0.j    ,  0.2632-0.j    ,  0.1062-0.j    ,\n",
       "        -0.0896-0.j    ,  0.1272-0.0023j,  0.1272+0.0023j,\n",
       "         0.1225+0.0014j,  0.1225-0.0014j,  0.0736-0.j    ,\n",
       "         0.1151-0.j    ],\n",
       "       [-0.0769-0.j    , -0.1706-0.j    , -0.0517-0.j    ,\n",
       "        -0.7899-0.j    , -0.479 -0.j    , -0.4303-0.j    ,\n",
       "         0.0727-0.j    , -0.6808-0.j    , -0.0584-0.j    ,\n",
       "        -0.1614-0.j    , -0.2111-0.j    , -0.0368-0.j    ,\n",
       "         0.1553-0.2454j,  0.1553+0.2454j,  0.7989-0.j    ,\n",
       "        -0.5513-0.j    , -0.3946-0.j    , -0.0483-0.j    ,\n",
       "         0.4629-0.j    ,  0.0082-0.0565j,  0.0082+0.0565j,\n",
       "        -0.0549+0.0444j, -0.0549-0.0444j, -0.536 -0.j    ,\n",
       "        -0.1539-0.j    ],\n",
       "       [ 0.0403-0.j    ,  0.0031-0.j    ,  0.1723-0.j    ,\n",
       "        -0.0073-0.j    , -0.0168-0.j    , -0.2436-0.j    ,\n",
       "         0.1098-0.j    , -0.0256-0.j    ,  0.0512-0.j    ,\n",
       "        -0.196 -0.j    ,  0.0219-0.j    , -0.2651-0.j    ,\n",
       "        -0.0011-0.018j , -0.0011+0.018j ,  0.0175-0.j    ,\n",
       "        -0.1365-0.j    , -0.3106-0.j    ,  0.075 -0.j    ,\n",
       "        -0.0118-0.j    ,  0.0069+0.0143j,  0.0069-0.0143j,\n",
       "         0.0075+0.0136j,  0.0075-0.0136j,  0.0008-0.j    ,\n",
       "         0.0068-0.j    ],\n",
       "       [ 0.0091-0.j    , -0.0318-0.j    , -0.0159-0.j    ,\n",
       "        -0.0728-0.j    ,  0.0908-0.j    , -0.0285-0.j    ,\n",
       "        -0.0417-0.j    ,  0.0179-0.j    ,  0.0112-0.j    ,\n",
       "         0.0328-0.j    ,  0.0304-0.j    ,  0.009 -0.j    ,\n",
       "        -0.0107+0.0032j, -0.0107-0.0032j,  0.104 -0.j    ,\n",
       "        -0.0432-0.j    , -0.0401-0.j    ,  0.0159-0.j    ,\n",
       "         0.0217-0.j    ,  0.0152+0.0068j,  0.0152-0.0068j,\n",
       "         0.004 +0.0112j,  0.004 -0.0112j, -0.0345-0.j    ,\n",
       "        -0.0016-0.j    ],\n",
       "       [ 0.1124-0.j    ,  0.1106-0.j    ,  0.2076-0.j    ,\n",
       "        -0.0357-0.j    , -0.1528-0.j    , -0.0567-0.j    ,\n",
       "         0.233 -0.j    , -0.1528-0.j    ,  0.11  -0.j    ,\n",
       "        -0.2461-0.j    ,  0.112 -0.j    , -0.2049-0.j    ,\n",
       "         0.1262-0.0383j,  0.1262+0.0383j,  0.0422-0.j    ,\n",
       "        -0.0124-0.j    , -0.0306-0.j    ,  0.1086-0.j    ,\n",
       "        -0.0554-0.j    ,  0.0976+0.004j ,  0.0976-0.004j ,\n",
       "         0.0939+0.0087j,  0.0939-0.0087j,  0.042 -0.j    ,\n",
       "         0.0844-0.j    ],\n",
       "       [-0.0283-0.j    , -0.5141-0.j    , -0.266 -0.j    ,\n",
       "        -0.5198-0.j    ,  0.6196-0.j    , -0.0598-0.j    ,\n",
       "        -0.283 -0.j    ,  0.5926-0.j    , -0.0249-0.j    ,\n",
       "         0.3308-0.j    , -0.5196-0.j    ,  0.3527-0.j    ,\n",
       "        -0.0118-0.0762j, -0.0118+0.0762j,  0.5171-0.j    ,\n",
       "        -0.1948-0.j    , -0.0005-0.j    , -0.0263-0.j    ,\n",
       "         0.3194-0.j    ,  0.0594-0.0496j,  0.0594+0.0496j,\n",
       "         0.0024+0.0402j,  0.0024-0.0402j, -0.3975-0.j    ,\n",
       "        -0.084 -0.j    ],\n",
       "       [ 0.9692-0.j    ,  0.8174-0.j    ,  0.8782-0.j    ,\n",
       "         0.2555-0.j    , -0.5368-0.j    ,  0.7976-0.j    ,\n",
       "         0.8553-0.j    , -0.2364-0.j    ,  0.9716-0.j    ,\n",
       "        -0.7997-0.j    ,  0.8038-0.j    , -0.8333-0.j    ,\n",
       "         0.9271-0.j    ,  0.9271+0.j    , -0.2229-0.j    ,\n",
       "         0.7582-0.j    ,  0.812 -0.j    ,  0.9716-0.j    ,\n",
       "        -0.8047-0.j    ,  0.9707-0.j    ,  0.9707+0.j    ,\n",
       "         0.9731-0.j    ,  0.9731+0.j    ,  0.7231-0.j    ,\n",
       "         0.9629-0.j    ]])"
      ]
     },
     "execution_count": 9,
     "metadata": {},
     "output_type": "execute_result"
    }
   ],
   "source": [
    "Wstar = linearEDMD.left_eigenvectors.conjugate().T\n",
    "Wstar"
   ]
  },
  {
   "cell_type": "code",
   "execution_count": 10,
   "id": "89f3f040",
   "metadata": {},
   "outputs": [
    {
     "data": {
      "text/plain": [
       "(0.001217540156105647+0j)"
      ]
     },
     "execution_count": 10,
     "metadata": {},
     "output_type": "execute_result"
    }
   ],
   "source": [
    "Wstar[:,1]@Xi[:,1]"
   ]
  },
  {
   "cell_type": "markdown",
   "id": "25030510",
   "metadata": {},
   "source": [
    "## koopman_eigenfunction draft (WRONG)"
   ]
  },
  {
   "cell_type": "code",
   "execution_count": 11,
   "id": "22b3bc0a",
   "metadata": {},
   "outputs": [],
   "source": [
    "ex1 = np.arange(-5, 5.1, 0.1)\n",
    "ex2 = np.arange(-5, 5.1, 0.1)\n",
    "xx1, xx2 = np.meshgrid(x1, x2)"
   ]
  },
  {
   "cell_type": "code",
   "execution_count": 12,
   "id": "2634e801",
   "metadata": {},
   "outputs": [
    {
     "name": "stdout",
     "output_type": "stream",
     "text": [
      "0.9\n"
     ]
    }
   ],
   "source": [
    "#plot for 2nd eigenvalue = 0.9 \n",
    "#corresponding to analytical solution i = 2, j = 0\n",
    "mu = np.round(Mu[1].real,4)\n",
    "print(mu)\n",
    "ez = np.zeros((len(ex1),len(ex1)))\n",
    "\n",
    "for i,x1n in enumerate(ex1):\n",
    "    for j,x2n in enumerate(ex2):\n",
    "       \n",
    "        Psi = linearEDMD.dictionary_Hermite_poly([x1n,x2n])\n",
    "  \n",
    "        ez[i][j] = Psi@Xi[1].real\n",
    "     "
   ]
  },
  {
   "cell_type": "raw",
   "id": "37e9ecf5",
   "metadata": {},
   "source": [
    "z1 = analytical_koopman_eigenfunction(0,0,1,0)\n",
    "print(z1)"
   ]
  },
  {
   "cell_type": "raw",
   "id": "f0620888",
   "metadata": {},
   "source": [
    "psi = linearEDMD.dictionary_Hermite_poly([0,0])\n",
    "print(psi)\n",
    "print(Xi[1].real)\n",
    "z2 = psi@Xi[1].real\n",
    "print(z2)"
   ]
  },
  {
   "cell_type": "code",
   "execution_count": 16,
   "id": "838f1614",
   "metadata": {},
   "outputs": [
    {
     "name": "stdout",
     "output_type": "stream",
     "text": [
      "-122807.36523089743 428.4871530936397\n"
     ]
    },
    {
     "name": "stderr",
     "output_type": "stream",
     "text": [
      "/Users/longtaoliu/opt/anaconda3/lib/python3.7/site-packages/ipykernel_launcher.py:12: MatplotlibDeprecationWarning: shading='flat' when X and Y have the same dimensions as C is deprecated since 3.3.  Either specify the corners of the quadrilaterals with X and Y, or pass shading='auto', 'nearest' or 'gouraud', or set rcParams['pcolor.shading'].  This will become an error two minor releases later.\n",
      "  if sys.path[0] == '':\n"
     ]
    },
    {
     "data": {
      "text/plain": [
       "<matplotlib.colorbar.Colorbar at 0x7fe912405650>"
      ]
     },
     "execution_count": 16,
     "metadata": {},
     "output_type": "execute_result"
    },
    {
     "data": {
      "image/png": "[encoded data removed]",
      "text/plain": [
       "<Figure size 720x720 with 2 Axes>"
      ]
     },
     "metadata": {
      "needs_background": "light"
     },
     "output_type": "display_data"
    }
   ],
   "source": [
    "ez_min,ez_max = ez.min(),ez.max()\n",
    "print(ez_min,ez_max)\n",
    "#normalized_ez = 2*(ez-ez_min)/(ez_max-ez_min)-1\n",
    "\n",
    "temp = ez.flatten()\n",
    "inf_norm = np.linalg.norm(temp, np.inf)\n",
    "normalized_ez = np.array( [v/inf_norm for v in ez])\n",
    "\n",
    "fig, ax = plt.subplots(1, 1,figsize=(10,10))\n",
    "\n",
    "#c = ax.pcolor(ex1, ex2, ez, cmap='jet', vmin=ez_min, vmax=ez_max)\n",
    "c = ax.pcolor(ex1, ex2, normalized_ez, cmap='jet', vmin=-1, vmax=1)\n",
    "ax.set_title('$\\mu = {}$'.format(mu))\n",
    "ax.set_xlim(-5, 5)\n",
    "ax.set_ylim(-5, 5)\n",
    "fig.colorbar(c, ax=ax)"
   ]
  },
  {
   "cell_type": "code",
   "execution_count": null,
   "id": "9a5d92d5",
   "metadata": {},
   "outputs": [],
   "source": []
  }
 ],
 "metadata": {
  "kernelspec": {
   "display_name": "Python 3",
   "language": "python",
   "name": "python3"
  },
  "language_info": {
   "codemirror_mode": {
    "name": "ipython",
    "version": 3
   },
   "file_extension": ".py",
   "mimetype": "text/x-python",
   "name": "python",
   "nbconvert_exporter": "python",
   "pygments_lexer": "ipython3",
   "version": "3.7.10"
  }
 },
 "nbformat": 4,
 "nbformat_minor": 5
}
