{
 "cells": [
  {
   "cell_type": "code",
   "execution_count": 1,
   "id": "36723d49",
   "metadata": {},
   "outputs": [],
   "source": [
    "import pandas as pd\n",
    "import matplotlib.pyplot as plt\n",
    "import numpy as np\n",
    "from sklearn.metrics import mean_squared_error\n",
    "\n",
    "from src.simpleEDMD import *\n",
    "import src.dictionary_strategy as d_strategy"
   ]
  },
  {
   "attachments": {
    "vadere_sim.PNG": {
     "image/png": "[encoded data removed]"
    }
   },
   "cell_type": "markdown",
   "id": "043df8ba",
   "metadata": {},
   "source": [
    "![vadere_sim.PNG](attachment:vadere_sim.PNG)"
   ]
  },
  {
   "cell_type": "markdown",
   "id": "5290e353",
   "metadata": {},
   "source": [
    "# dataset"
   ]
  },
  {
   "cell_type": "code",
   "execution_count": 2,
   "id": "202139c5",
   "metadata": {},
   "outputs": [
    {
     "data": {
      "text/html": [
       "<div>\n",
       "<style scoped>\n",
       "    .dataframe tbody tr th:only-of-type {\n",
       "        vertical-align: middle;\n",
       "    }\n",
       "\n",
       "    .dataframe tbody tr th {\n",
       "        vertical-align: top;\n",
       "    }\n",
       "\n",
       "    .dataframe thead th {\n",
       "        text-align: right;\n",
       "    }\n",
       "</style>\n",
       "<table border=\"1\" class=\"dataframe\">\n",
       "  <thead>\n",
       "    <tr style=\"text-align: right;\">\n",
       "      <th></th>\n",
       "      <th>pedestrianId</th>\n",
       "      <th>simTime</th>\n",
       "      <th>endTime-PID1</th>\n",
       "      <th>startX-PID1</th>\n",
       "      <th>startY-PID1</th>\n",
       "      <th>endX-PID1</th>\n",
       "      <th>endY-PID1</th>\n",
       "      <th>targetId-PID2</th>\n",
       "    </tr>\n",
       "  </thead>\n",
       "  <tbody>\n",
       "    <tr>\n",
       "      <th>0</th>\n",
       "      <td>1</td>\n",
       "      <td>0.100000</td>\n",
       "      <td>0.745379</td>\n",
       "      <td>8.577139</td>\n",
       "      <td>8.601742</td>\n",
       "      <td>9.397920</td>\n",
       "      <td>8.601742</td>\n",
       "      <td>6</td>\n",
       "    </tr>\n",
       "    <tr>\n",
       "      <th>1</th>\n",
       "      <td>2</td>\n",
       "      <td>0.100000</td>\n",
       "      <td>0.893789</td>\n",
       "      <td>5.969761</td>\n",
       "      <td>12.684033</td>\n",
       "      <td>6.626429</td>\n",
       "      <td>12.684033</td>\n",
       "      <td>6</td>\n",
       "    </tr>\n",
       "    <tr>\n",
       "      <th>2</th>\n",
       "      <td>3</td>\n",
       "      <td>0.100000</td>\n",
       "      <td>0.906596</td>\n",
       "      <td>9.103012</td>\n",
       "      <td>14.466950</td>\n",
       "      <td>9.579383</td>\n",
       "      <td>14.146795</td>\n",
       "      <td>6</td>\n",
       "    </tr>\n",
       "    <tr>\n",
       "      <th>3</th>\n",
       "      <td>4</td>\n",
       "      <td>0.100000</td>\n",
       "      <td>0.628872</td>\n",
       "      <td>7.217410</td>\n",
       "      <td>19.891623</td>\n",
       "      <td>7.217410</td>\n",
       "      <td>19.891623</td>\n",
       "      <td>6</td>\n",
       "    </tr>\n",
       "    <tr>\n",
       "      <th>4</th>\n",
       "      <td>5</td>\n",
       "      <td>0.100000</td>\n",
       "      <td>0.765057</td>\n",
       "      <td>12.435188</td>\n",
       "      <td>7.360020</td>\n",
       "      <td>13.051691</td>\n",
       "      <td>7.893366</td>\n",
       "      <td>6</td>\n",
       "    </tr>\n",
       "    <tr>\n",
       "      <th>...</th>\n",
       "      <td>...</td>\n",
       "      <td>...</td>\n",
       "      <td>...</td>\n",
       "      <td>...</td>\n",
       "      <td>...</td>\n",
       "      <td>...</td>\n",
       "      <td>...</td>\n",
       "      <td>...</td>\n",
       "    </tr>\n",
       "    <tr>\n",
       "      <th>14014</th>\n",
       "      <td>26</td>\n",
       "      <td>149.300804</td>\n",
       "      <td>150.158280</td>\n",
       "      <td>98.835150</td>\n",
       "      <td>13.660293</td>\n",
       "      <td>98.835150</td>\n",
       "      <td>13.660293</td>\n",
       "      <td>6</td>\n",
       "    </tr>\n",
       "    <tr>\n",
       "      <th>14015</th>\n",
       "      <td>2</td>\n",
       "      <td>149.332328</td>\n",
       "      <td>150.126117</td>\n",
       "      <td>98.864053</td>\n",
       "      <td>12.416538</td>\n",
       "      <td>98.864053</td>\n",
       "      <td>12.416538</td>\n",
       "      <td>6</td>\n",
       "    </tr>\n",
       "    <tr>\n",
       "      <th>14016</th>\n",
       "      <td>25</td>\n",
       "      <td>149.616118</td>\n",
       "      <td>150.415670</td>\n",
       "      <td>98.859606</td>\n",
       "      <td>14.865688</td>\n",
       "      <td>98.859606</td>\n",
       "      <td>14.865688</td>\n",
       "      <td>6</td>\n",
       "    </tr>\n",
       "    <tr>\n",
       "      <th>14017</th>\n",
       "      <td>14</td>\n",
       "      <td>149.686366</td>\n",
       "      <td>150.345336</td>\n",
       "      <td>98.867966</td>\n",
       "      <td>11.230994</td>\n",
       "      <td>98.867966</td>\n",
       "      <td>11.230994</td>\n",
       "      <td>6</td>\n",
       "    </tr>\n",
       "    <tr>\n",
       "      <th>14018</th>\n",
       "      <td>65</td>\n",
       "      <td>149.946100</td>\n",
       "      <td>150.680640</td>\n",
       "      <td>98.865281</td>\n",
       "      <td>10.066443</td>\n",
       "      <td>98.865281</td>\n",
       "      <td>10.066443</td>\n",
       "      <td>6</td>\n",
       "    </tr>\n",
       "  </tbody>\n",
       "</table>\n",
       "<p>14019 rows × 8 columns</p>\n",
       "</div>"
      ],
      "text/plain": [
       "       pedestrianId     simTime  endTime-PID1  startX-PID1  startY-PID1  \\\n",
       "0                 1    0.100000      0.745379     8.577139     8.601742   \n",
       "1                 2    0.100000      0.893789     5.969761    12.684033   \n",
       "2                 3    0.100000      0.906596     9.103012    14.466950   \n",
       "3                 4    0.100000      0.628872     7.217410    19.891623   \n",
       "4                 5    0.100000      0.765057    12.435188     7.360020   \n",
       "...             ...         ...           ...          ...          ...   \n",
       "14014            26  149.300804    150.158280    98.835150    13.660293   \n",
       "14015             2  149.332328    150.126117    98.864053    12.416538   \n",
       "14016            25  149.616118    150.415670    98.859606    14.865688   \n",
       "14017            14  149.686366    150.345336    98.867966    11.230994   \n",
       "14018            65  149.946100    150.680640    98.865281    10.066443   \n",
       "\n",
       "       endX-PID1  endY-PID1  targetId-PID2  \n",
       "0       9.397920   8.601742              6  \n",
       "1       6.626429  12.684033              6  \n",
       "2       9.579383  14.146795              6  \n",
       "3       7.217410  19.891623              6  \n",
       "4      13.051691   7.893366              6  \n",
       "...          ...        ...            ...  \n",
       "14014  98.835150  13.660293              6  \n",
       "14015  98.864053  12.416538              6  \n",
       "14016  98.859606  14.865688              6  \n",
       "14017  98.867966  11.230994              6  \n",
       "14018  98.865281  10.066443              6  \n",
       "\n",
       "[14019 rows x 8 columns]"
      ]
     },
     "execution_count": 2,
     "metadata": {},
     "output_type": "execute_result"
    }
   ],
   "source": [
    "df = pd.read_csv('datasets/postvis.traj', delim_whitespace=True)\n",
    "traj = np.array(df,dtype=float)\n",
    "# 8 columns\n",
    "# 0-pedId, 1-simTime, 2-endTime, 3-startX, 4-startY, 5-endX, 6-endY, 7-targetId\n",
    "df"
   ]
  },
  {
   "cell_type": "code",
   "execution_count": 3,
   "id": "rental-absorption",
   "metadata": {},
   "outputs": [
    {
     "name": "stdout",
     "output_type": "stream",
     "text": [
      "(100, 2)\n"
     ]
    }
   ],
   "source": [
    "sim_step = 120\n",
    "step_length = 0.4\n",
    "peds = np.arange(1,101,1)\n",
    "data_cm = []\n",
    "last_ped_pos = traj[:100, 3:5]\n",
    "print(last_ped_pos.shape)\n",
    "for t in range(sim_step):\n",
    "    i = np.where((traj[:,1] > step_length*t) & (traj[:,1] <= step_length*(t+1)))\n",
    "    i = i[0]\n",
    "    ped_isin = np.isin(peds, traj[i, 0])\n",
    "    buf_traj = np.vstack((traj[i, 3:5], last_ped_pos[np.logical_not(ped_isin), 0:2]))\n",
    "\n",
    "    data_cm.append(np.average(buf_traj, axis=0))\n",
    "    last_ped_pos[(traj[i, 0] - 1).astype(int), :] = traj[i, 3:5]\n",
    "\n",
    "data_cm = np.array(data_cm)"
   ]
  },
  {
   "cell_type": "code",
   "execution_count": 4,
   "id": "da7b5f6d",
   "metadata": {},
   "outputs": [],
   "source": [
    "X = data_cm[:-1,:]\n",
    "Y = data_cm[1:,:]"
   ]
  },
  {
   "cell_type": "code",
   "execution_count": 5,
   "id": "eafe3791",
   "metadata": {
    "scrolled": true
   },
   "outputs": [
    {
     "data": {
      "image/png": "[encoded data removed]",
      "text/plain": [
       "<Figure size 432x288 with 1 Axes>"
      ]
     },
     "metadata": {
      "needs_background": "light"
     },
     "output_type": "display_data"
    }
   ],
   "source": [
    "x = X[:,0]\n",
    "y = X[:,1]\n",
    "u = (Y[:,0]-X[:,0])/step_length\n",
    "v = (Y[:,1]-X[:,1])/step_length\n",
    "plt.quiver(x, y, u, v)\n",
    "# plt.axis([0, 80, 13, 15])\n",
    "plt.show()"
   ]
  },
  {
   "cell_type": "code",
   "execution_count": 6,
   "id": "emotional-office",
   "metadata": {},
   "outputs": [
    {
     "data": {
      "image/png": "[encoded data removed]",
      "text/plain": [
       "<Figure size 432x288 with 1 Axes>"
      ]
     },
     "metadata": {
      "needs_background": "light"
     },
     "output_type": "display_data"
    }
   ],
   "source": [
    "plt.scatter(Y[:, 0], Y[:, 1], c=np.arange(len(x)))\n",
    "plt.show()"
   ]
  },
  {
   "cell_type": "markdown",
   "id": "12cab3f4",
   "metadata": {},
   "source": [
    "# Koopman (dmap)"
   ]
  },
  {
   "cell_type": "code",
   "execution_count": 13,
   "id": "412bfea0",
   "metadata": {},
   "outputs": [
    {
     "name": "stdout",
     "output_type": "stream",
     "text": [
      "53\n",
      "1.6\n",
      "0.0002912733282462417\n"
     ]
    }
   ],
   "source": [
    "# grid search\n",
    "mse = 1\n",
    "n = 0\n",
    "e = 0\n",
    "\n",
    "for i in range(10):\n",
    "    for j in range(10,20):\n",
    "        dmap_strategy = d_strategy.dmap_strategy(i+50,(j+1e-16)/10)\n",
    "        bnEDMD = simpleEDMD(X,Y, dmap_strategy)\n",
    "        \n",
    "        bnEDMD.compute_koopman_operator()\n",
    "        \n",
    "        Y_predicted  = bnEDMD.predict_next_timestep(X).real\n",
    "        MSE = mean_squared_error(Y,Y_predicted)\n",
    "        \n",
    "        if MSE<mse:\n",
    "            n = i+50\n",
    "            e = (j+1e-16)/10\n",
    "            mse = MSE\n",
    "\n",
    "print(n)\n",
    "print(e)\n",
    "print(mse)"
   ]
  },
  {
   "cell_type": "code",
   "execution_count": 14,
   "id": "e222edc4",
   "metadata": {},
   "outputs": [
    {
     "data": {
      "text/plain": [
       "0.0004320783777287473"
      ]
     },
     "execution_count": 14,
     "metadata": {},
     "output_type": "execute_result"
    }
   ],
   "source": [
    "dmap_strategy = d_strategy.dmap_strategy(53,1.6)\n",
    "bnEDMD = simpleEDMD(X,Y, dmap_strategy)\n",
    "\n",
    "bnEDMD.compute_koopman_operator()\n",
    "\n",
    "Y_predicted  = bnEDMD.predict_next_timestep(X).real\n",
    "MSE = mean_squared_error(Y,Y_predicted)\n",
    "MSE"
   ]
  },
  {
   "cell_type": "code",
   "execution_count": 15,
   "id": "c79bdcda",
   "metadata": {},
   "outputs": [
    {
     "data": {
      "image/png": "[encoded data removed]",
      "text/plain": [
       "<Figure size 432x288 with 1 Axes>"
      ]
     },
     "metadata": {
      "needs_background": "light"
     },
     "output_type": "display_data"
    }
   ],
   "source": [
    "u_predicted = (Y_predicted[:,0]-X[:,0])/step_length\n",
    "v_predicted = (Y_predicted[:,1]-X[:,1])/step_length\n",
    "plt.quiver(x, y, u_predicted, v_predicted)\n",
    "\n",
    "plt.show()"
   ]
  },
  {
   "cell_type": "code",
   "execution_count": 16,
   "id": "gorgeous-frontier",
   "metadata": {},
   "outputs": [
    {
     "data": {
      "image/png": "[encoded data removed]",
      "text/plain": [
       "<Figure size 432x288 with 1 Axes>"
      ]
     },
     "metadata": {
      "needs_background": "light"
     },
     "output_type": "display_data"
    }
   ],
   "source": [
    "plt.scatter(Y_predicted[:, 0], Y_predicted[:, 1], c=np.arange(len(x)))\n",
    "plt.show()"
   ]
  },
  {
   "cell_type": "code",
   "execution_count": null,
   "id": "bc254c30",
   "metadata": {},
   "outputs": [],
   "source": []
  }
 ],
 "metadata": {
  "kernelspec": {
   "display_name": "Python 3",
   "language": "python",
   "name": "python3"
  },
  "language_info": {
   "codemirror_mode": {
    "name": "ipython",
    "version": 3
   },
   "file_extension": ".py",
   "mimetype": "text/x-python",
   "name": "python",
   "nbconvert_exporter": "python",
   "pygments_lexer": "ipython3",
   "version": "3.9.2"
  }
 },
 "nbformat": 4,
 "nbformat_minor": 5
}
